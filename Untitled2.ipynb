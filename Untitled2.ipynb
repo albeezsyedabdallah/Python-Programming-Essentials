{
  "nbformat": 4,
  "nbformat_minor": 0,
  "metadata": {
    "colab": {
      "provenance": []
    },
    "kernelspec": {
      "name": "python3",
      "display_name": "Python 3"
    },
    "language_info": {
      "name": "python"
    }
  },
  "cells": [
    {
      "cell_type": "code",
      "execution_count": 1,
      "metadata": {
        "colab": {
          "base_uri": "https://localhost:8080/"
        },
        "id": "QCnpVH2D3_38",
        "outputId": "d2710143-144f-4b63-bcb6-707713854e72"
      },
      "outputs": [
        {
          "output_type": "stream",
          "name": "stdout",
          "text": [
            "arg1: Syed\n",
            "arg2: Abdallah\n",
            "arg3: Albeez\n",
            "arg1: SYED\n",
            "arg2: ABDALLAH\n",
            "arg3: ALBEEZ\n"
          ]
        }
      ],
      "source": [
        "def Name(arg1, arg2, arg3):\n",
        "\tprint(\"arg1:\", arg1)\n",
        "\tprint(\"arg2:\", arg2)\n",
        "\tprint(\"arg3:\", arg3)\n",
        "\n",
        "\n",
        "# args are used to pass any arguments to function.\n",
        "args = (\"Syed\", \"Abdallah\", \"Albeez\")\n",
        "Name(*args)\n",
        "#**Kwargs Interpreted as DIctionary.it stands for keyword arguments hence Keyworded variable Length Arguments are passed by using it. it uses keyword and returns value in dictionary form\n",
        "kwargs = {\"arg1\": \"SYED\", \"arg2\": \"ABDALLAH\", \"arg3\": \"ALBEEZ\"}\n",
        "Name(**kwargs)\n"
      ]
    }
  ]
}