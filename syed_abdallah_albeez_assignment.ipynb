{
  "nbformat": 4,
  "nbformat_minor": 0,
  "metadata": {
    "colab": {
      "provenance": []
    },
    "kernelspec": {
      "name": "python3",
      "display_name": "Python 3"
    },
    "language_info": {
      "name": "python"
    }
  },
  "cells": [
    {
      "cell_type": "code",
      "execution_count": null,
      "metadata": {
        "colab": {
          "base_uri": "https://localhost:8080/"
        },
        "id": "qk4D5hW_yxYp",
        "outputId": "4e527e68-32d4-4403-f5d0-ec11f022857f"
      },
      "outputs": [
        {
          "output_type": "stream",
          "name": "stdout",
          "text": [
            " 2   3   5   7   11   13   17   19   23   29   31   37   41   43   47   53   59   61   67   71   73   79   83   89   97   101   103   107   109   113   127   131   137   139   149   151   157   163   167   173   179   181   191   193   197   199  "
          ]
        }
      ],
      "source": [
        "for Number in range (1, 201):\n",
        "    count = 0\n",
        "    for i in range(2, (Number//2 + 1)):\n",
        "        if(Number % i == 0):\n",
        "            count = count + 1\n",
        "            break\n",
        "\n",
        "    if (count == 0 and Number != 1):\n",
        "        print(\" %d\" %Number, end = '  ')"
      ]
    }
  ]
}